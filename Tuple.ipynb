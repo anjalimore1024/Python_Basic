{
 "cells": [
  {
   "cell_type": "markdown",
   "id": "402794b9",
   "metadata": {},
   "source": [
    "* Tuple are entered all informations(int,float,boolen,string,...etc)\n",
    "* A tuple is an immutable object, which means it cannot be changed, and we use it to represent fixed collections of items.\n",
    "* replace, add, update that thing are not in tuple \n",
    "* Tuple have only 2 method :- index() and count()"
   ]
  },
  {
   "cell_type": "code",
   "execution_count": 1,
   "id": "d6fb2795",
   "metadata": {},
   "outputs": [
    {
     "data": {
      "text/plain": [
       "int"
      ]
     },
     "execution_count": 1,
     "metadata": {},
     "output_type": "execute_result"
    }
   ],
   "source": [
    "t=(12)\n",
    "type(t)"
   ]
  },
  {
   "cell_type": "code",
   "execution_count": 2,
   "id": "e9af1466",
   "metadata": {},
   "outputs": [
    {
     "data": {
      "text/plain": [
       "tuple"
      ]
     },
     "execution_count": 2,
     "metadata": {},
     "output_type": "execute_result"
    }
   ],
   "source": [
    "# covert int into tuple use \",\"\n",
    "t=(12,)\n",
    "type(t)"
   ]
  },
  {
   "cell_type": "code",
   "execution_count": 3,
   "id": "0fe71240",
   "metadata": {},
   "outputs": [],
   "source": [
    "t = (10,20,30,40,'Anjali',False)"
   ]
  },
  {
   "cell_type": "code",
   "execution_count": 4,
   "id": "72336011",
   "metadata": {
    "scrolled": true
   },
   "outputs": [
    {
     "data": {
      "text/plain": [
       "tuple"
      ]
     },
     "execution_count": 4,
     "metadata": {},
     "output_type": "execute_result"
    }
   ],
   "source": [
    "# To check the type\n",
    "type(t)"
   ]
  },
  {
   "cell_type": "code",
   "execution_count": 5,
   "id": "3e124a14",
   "metadata": {},
   "outputs": [
    {
     "data": {
      "text/plain": [
       "6"
      ]
     },
     "execution_count": 5,
     "metadata": {},
     "output_type": "execute_result"
    }
   ],
   "source": [
    "# TO check length\n",
    "len(t)"
   ]
  },
  {
   "cell_type": "code",
   "execution_count": 8,
   "id": "12d8e4f0",
   "metadata": {},
   "outputs": [
    {
     "data": {
      "text/plain": [
       "1"
      ]
     },
     "execution_count": 8,
     "metadata": {},
     "output_type": "execute_result"
    }
   ],
   "source": [
    "# To find index number of given value\n",
    "t.index(20)"
   ]
  },
  {
   "cell_type": "code",
   "execution_count": 7,
   "id": "9ee23673",
   "metadata": {},
   "outputs": [
    {
     "data": {
      "text/plain": [
       "(False, 'Anjali', 40, 30, 20, 10)"
      ]
     },
     "execution_count": 7,
     "metadata": {},
     "output_type": "execute_result"
    }
   ],
   "source": [
    "# Reverse the list\n",
    "t[::-1]"
   ]
  },
  {
   "cell_type": "code",
   "execution_count": 11,
   "id": "2a4b31f6",
   "metadata": {},
   "outputs": [
    {
     "data": {
      "text/plain": [
       "(10, 20, 30, 40, 'Anjali', False, 10, 20, 30, 40, 'Anjali', False)"
      ]
     },
     "execution_count": 11,
     "metadata": {},
     "output_type": "execute_result"
    }
   ],
   "source": [
    "# Tuple in Multiple time\n",
    "t1 = t*2\n",
    "t1"
   ]
  },
  {
   "cell_type": "code",
   "execution_count": 12,
   "id": "95c61397",
   "metadata": {},
   "outputs": [
    {
     "data": {
      "text/plain": [
       "2"
      ]
     },
     "execution_count": 12,
     "metadata": {},
     "output_type": "execute_result"
    }
   ],
   "source": [
    "# To check how many times a value appears in a list\n",
    "t1.count(10)"
   ]
  },
  {
   "cell_type": "code",
   "execution_count": 13,
   "id": "0d63e3ca",
   "metadata": {},
   "outputs": [
    {
     "data": {
      "text/plain": [
       "[3, 4, 5, 7, 10, 50]"
      ]
     },
     "execution_count": 13,
     "metadata": {},
     "output_type": "execute_result"
    }
   ],
   "source": [
    "# Sort the tuple but the output comes in list\n",
    "t = (10,3,5,7,50,4)\n",
    "\n",
    "sorted(t)"
   ]
  },
  {
   "cell_type": "code",
   "execution_count": 14,
   "id": "025bed77",
   "metadata": {},
   "outputs": [
    {
     "name": "stdout",
     "output_type": "stream",
     "text": [
      "maximum no in tuple =  50\n",
      "minimum no in tuple =  3\n"
     ]
    }
   ],
   "source": [
    "# min and max function use to check maximum and minimum value from tuple\n",
    "t = (10,3,5,7,50,4)\n",
    "\n",
    "max(t)\n",
    "print(\"maximum no in tuple = \",max(t))\n",
    "\n",
    "min(t)\n",
    "print(\"minimum no in tuple = \",min(t))"
   ]
  }
 ],
 "metadata": {
  "kernelspec": {
   "display_name": "Python 3 (ipykernel)",
   "language": "python",
   "name": "python3"
  },
  "language_info": {
   "codemirror_mode": {
    "name": "ipython",
    "version": 3
   },
   "file_extension": ".py",
   "mimetype": "text/x-python",
   "name": "python",
   "nbconvert_exporter": "python",
   "pygments_lexer": "ipython3",
   "version": "3.9.12"
  }
 },
 "nbformat": 4,
 "nbformat_minor": 5
}
