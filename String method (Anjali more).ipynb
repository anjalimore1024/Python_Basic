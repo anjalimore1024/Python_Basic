{
 "cells": [
  {
   "cell_type": "markdown",
   "id": "195f4df3",
   "metadata": {},
   "source": [
    "NAME - ANJALI MORE"
   ]
  },
  {
   "cell_type": "markdown",
   "id": "43ac11f4",
   "metadata": {},
   "source": [
    "# STRING METHOD"
   ]
  },
  {
   "cell_type": "markdown",
   "id": "00738684",
   "metadata": {},
   "source": [
    "1] length()\n",
    " \n",
    "* This function will return length of variable"
   ]
  },
  {
   "cell_type": "code",
   "execution_count": 2,
   "id": "524cf89a",
   "metadata": {},
   "outputs": [
    {
     "name": "stdout",
     "output_type": "stream",
     "text": [
      "11\n"
     ]
    }
   ],
   "source": [
    "s = \"Datascience\"\n",
    "try:\n",
    "    def length_of_variable(name):\n",
    "        try:\n",
    "            print(len(name))\n",
    "        except Exception as e:\n",
    "            print(e)\n",
    "    length_of_variable(s)\n",
    "except Exception as e:\n",
    "        print(e)       "
   ]
  },
  {
   "cell_type": "markdown",
   "id": "85ec56fa",
   "metadata": {},
   "source": [
    "2] lstrip()\n",
    "\n",
    "* The function will remove left space"
   ]
  },
  {
   "cell_type": "code",
   "execution_count": 4,
   "id": "8715c465",
   "metadata": {},
   "outputs": [
    {
     "name": "stdout",
     "output_type": "stream",
     "text": [
      "jupyter   \n"
     ]
    }
   ],
   "source": [
    "a = \"  jupyter   \"\n",
    "try:\n",
    "    def lstrip(name):\n",
    "        try:\n",
    "            print(a.lstrip())\n",
    "        except Exception as e:\n",
    "            print(e)\n",
    "    lstrip(a)\n",
    "except Exception as e:\n",
    "            print(e)"
   ]
  },
  {
   "cell_type": "markdown",
   "id": "b6511d3c",
   "metadata": {},
   "source": [
    "3] rstrip()\n",
    "\n",
    "* The function will remove right space"
   ]
  },
  {
   "cell_type": "code",
   "execution_count": 4,
   "id": "134771d8",
   "metadata": {},
   "outputs": [
    {
     "name": "stdout",
     "output_type": "stream",
     "text": [
      "  jupyter\n"
     ]
    }
   ],
   "source": [
    "a = \"  jupyter   \"\n",
    "try:\n",
    "    def rstrip(name):\n",
    "        try:\n",
    "            print(a.rstrip())\n",
    "        except Exception as e:\n",
    "            print(e)\n",
    "    rstrip(a)\n",
    "except Exception as e:\n",
    "            print(e)"
   ]
  },
  {
   "cell_type": "markdown",
   "id": "e6fec817",
   "metadata": {},
   "source": [
    "4] strip()\n",
    "\n",
    "* The function will remove space"
   ]
  },
  {
   "cell_type": "code",
   "execution_count": 5,
   "id": "8db06dfe",
   "metadata": {},
   "outputs": [
    {
     "name": "stdout",
     "output_type": "stream",
     "text": [
      "jupyter\n"
     ]
    }
   ],
   "source": [
    "a = \"  jupyter   \"\n",
    "try:\n",
    "    def strip(name):\n",
    "        try:\n",
    "            print(a.strip())\n",
    "        except Exception as e:\n",
    "            print(e)\n",
    "    strip(a)\n",
    "except Exception as e:\n",
    "            print(e)   "
   ]
  },
  {
   "cell_type": "markdown",
   "id": "7bc94675",
   "metadata": {},
   "source": [
    "5] find()\n",
    "\n",
    " * Searches the string for a specified value and returns the position of where it was found"
   ]
  },
  {
   "cell_type": "code",
   "execution_count": 6,
   "id": "646b5219",
   "metadata": {},
   "outputs": [
    {
     "name": "stdout",
     "output_type": "stream",
     "text": [
      "12\n"
     ]
    }
   ],
   "source": [
    "s = \"jupyter notebook jupyter notebook jupyter notebook\"\n",
    "try:\n",
    "    def find(name):\n",
    "        try:\n",
    "            print(s.find('book'))\n",
    "        except Exception as e:\n",
    "            print(e)\n",
    "    find(s)\n",
    "except Exception as e:\n",
    "            print(e)"
   ]
  },
  {
   "cell_type": "markdown",
   "id": "b71ff333",
   "metadata": {},
   "source": [
    "6] count()\n",
    "\n",
    "* Returns the number of times a specified value occurs in a string"
   ]
  },
  {
   "cell_type": "code",
   "execution_count": 7,
   "id": "c5643cb4",
   "metadata": {},
   "outputs": [
    {
     "name": "stdout",
     "output_type": "stream",
     "text": [
      "3\n"
     ]
    }
   ],
   "source": [
    "s = \"jupyter notebook jupyter notebook jupyter notebook\"\n",
    "try:\n",
    "    def count(name):\n",
    "        try:\n",
    "            print(s.count('book'))\n",
    "        except Exception as e:\n",
    "            print(e)\n",
    "    count(s)\n",
    "except Exception as e:\n",
    "            print(e)"
   ]
  },
  {
   "cell_type": "markdown",
   "id": "83f7044f",
   "metadata": {},
   "source": [
    "7] split()\n",
    "\n",
    "* Splits the string at the specified separator, and returns a list"
   ]
  },
  {
   "cell_type": "code",
   "execution_count": 13,
   "id": "67209233",
   "metadata": {},
   "outputs": [
    {
     "name": "stdout",
     "output_type": "stream",
     "text": [
      "['jupyter', 'notebook', 'jupyter', 'notebook', 'jupyter', 'notebook']\n"
     ]
    }
   ],
   "source": [
    "s = \"jupyter notebook jupyter notebook jupyter notebook\"\n",
    "try:\n",
    "    def split(name):\n",
    "        try:\n",
    "            print(s.split(\" \"))\n",
    "        except Exception as e:\n",
    "            print(e)\n",
    "    split(s)\n",
    "except Exception as e:\n",
    "            print(e)"
   ]
  },
  {
   "cell_type": "markdown",
   "id": "153c32fb",
   "metadata": {},
   "source": [
    "8] replace()\n",
    "\n",
    "* Returns a string where a specified value is replaced with a specified value"
   ]
  },
  {
   "cell_type": "code",
   "execution_count": 14,
   "id": "17032d16",
   "metadata": {},
   "outputs": [
    {
     "name": "stdout",
     "output_type": "stream",
     "text": [
      "python is easy\n"
     ]
    }
   ],
   "source": [
    "l = \"jupyter is easy\"\n",
    "a = 'jupyter'\n",
    "try:\n",
    "    def replace_variable(name):\n",
    "        try:\n",
    "            print(l.replace(a, \"python\"))\n",
    "        except Exception as e:\n",
    "            print(e)\n",
    "    replace_variable(l)\n",
    "except Exception as e:\n",
    "        print(e)"
   ]
  },
  {
   "cell_type": "markdown",
   "id": "1564ff60",
   "metadata": {},
   "source": [
    "9] join()\n",
    "\n",
    "* Converts the elements of an iterable into a string"
   ]
  },
  {
   "cell_type": "code",
   "execution_count": 15,
   "id": "ea81ad0a",
   "metadata": {},
   "outputs": [
    {
     "name": "stdout",
     "output_type": "stream",
     "text": [
      "p_y_t_h_o_n\n"
     ]
    }
   ],
   "source": [
    "s = (\"python\")\n",
    "try:\n",
    "    def join(name):\n",
    "        try:\n",
    "            print('_'.join(s))\n",
    "        except Exception as e:\n",
    "            print(e)\n",
    "    join(s)\n",
    "except Exception as e:\n",
    "            print(e)    "
   ]
  },
  {
   "cell_type": "markdown",
   "id": "09385538",
   "metadata": {},
   "source": [
    "10] lower()\n",
    "\n",
    "* The function will converted to lowercase "
   ]
  },
  {
   "cell_type": "code",
   "execution_count": 16,
   "id": "760ea0ad",
   "metadata": {},
   "outputs": [
    {
     "name": "stdout",
     "output_type": "stream",
     "text": [
      "jupyter notebook\n"
     ]
    }
   ],
   "source": [
    "s=\"jupyter notebook\"\n",
    "try:\n",
    "    def lower(name):\n",
    "        try:\n",
    "            print(s.lower())\n",
    "        except Exception as e:\n",
    "            print(e)\n",
    "    lower(s)\n",
    "except Exception as e:\n",
    "            print(e)"
   ]
  },
  {
   "cell_type": "markdown",
   "id": "b1a36cbf",
   "metadata": {},
   "source": [
    "11] upper()\n",
    "\n",
    "* The function will return of the string coverted to uppercase"
   ]
  },
  {
   "cell_type": "code",
   "execution_count": 1,
   "id": "340f2f6d",
   "metadata": {},
   "outputs": [
    {
     "name": "stdout",
     "output_type": "stream",
     "text": [
      "JUPYTER NOTEBOOK\n"
     ]
    }
   ],
   "source": [
    "s=\"jupyter notebook\"\n",
    "\n",
    "try:\n",
    "    def upper(name):\n",
    "        try:\n",
    "            print(s.upper())\n",
    "        except Exception as e:\n",
    "            print(e)\n",
    "    upper(s)\n",
    "except Exception as e:\n",
    "            print(e)    "
   ]
  },
  {
   "cell_type": "markdown",
   "id": "7bb4131f",
   "metadata": {},
   "source": [
    "12] title()\n",
    "\n",
    "* Converts the first character of each word to upper case"
   ]
  },
  {
   "cell_type": "code",
   "execution_count": 2,
   "id": "c7b67f17",
   "metadata": {},
   "outputs": [
    {
     "name": "stdout",
     "output_type": "stream",
     "text": [
      "Jupyter Notebook\n"
     ]
    }
   ],
   "source": [
    "s=\"jupyter notebook\"\n",
    "\n",
    "try:\n",
    "    def title(name):\n",
    "        try:\n",
    "            print(s.title())\n",
    "        except Exception as e:\n",
    "            print(e)\n",
    "    title(s)\n",
    "except Exception as e:\n",
    "            print(e)    "
   ]
  },
  {
   "cell_type": "markdown",
   "id": "c0f70a43",
   "metadata": {},
   "source": [
    "13] capitalize()\n",
    "\n",
    "* Converts the first character to upper case"
   ]
  },
  {
   "cell_type": "code",
   "execution_count": 3,
   "id": "22802897",
   "metadata": {},
   "outputs": [
    {
     "name": "stdout",
     "output_type": "stream",
     "text": [
      "Jupyter notebook\n"
     ]
    }
   ],
   "source": [
    "s=\"jupyter notebook\"\n",
    "\n",
    "try:\n",
    "    def capitalize(name):\n",
    "        try:\n",
    "            print(s.capitalize())\n",
    "        except Exception as e:\n",
    "            print(e)\n",
    "    capitalize(s)\n",
    "except Exception as e:\n",
    "            print(e)    "
   ]
  },
  {
   "cell_type": "markdown",
   "id": "049d9f7e",
   "metadata": {},
   "source": [
    "14] swapcase()\n",
    "\n",
    "* Swaps cases, lower case becomes upper case and vice versa"
   ]
  },
  {
   "cell_type": "code",
   "execution_count": 4,
   "id": "9a891a29",
   "metadata": {},
   "outputs": [
    {
     "name": "stdout",
     "output_type": "stream",
     "text": [
      "JUPYTER NOTEBOOK\n"
     ]
    }
   ],
   "source": [
    "s=\"jupyter notebook\"\n",
    "\n",
    "try:\n",
    "    def swapcase(name):\n",
    "        try:\n",
    "            print(s.swapcase())\n",
    "        except Exception as e:\n",
    "            print(e)\n",
    "    swapcase(s)\n",
    "except Exception as e:\n",
    "            print(e)    "
   ]
  },
  {
   "cell_type": "markdown",
   "id": "b4da0666",
   "metadata": {},
   "source": [
    "15] center()\n",
    "\n",
    "* The function will returns a centered string"
   ]
  },
  {
   "cell_type": "code",
   "execution_count": 5,
   "id": "83adf20e",
   "metadata": {},
   "outputs": [
    {
     "name": "stdout",
     "output_type": "stream",
     "text": [
      "    jupyter notebook    \n"
     ]
    }
   ],
   "source": [
    "s=\"jupyter notebook\"\n",
    "\n",
    "try:\n",
    "    def center(name):\n",
    "        try:\n",
    "            print(s.center(24))\n",
    "        except Exception as e:\n",
    "            print(e)\n",
    "    center(s)\n",
    "except Exception as e:\n",
    "            print(e)    "
   ]
  },
  {
   "cell_type": "markdown",
   "id": "1272a030",
   "metadata": {},
   "source": [
    "16] isupper()\n",
    "\n",
    "* The function will returns True if all characters in the string are upper case, otherwise its false"
   ]
  },
  {
   "cell_type": "code",
   "execution_count": 6,
   "id": "ad24e464",
   "metadata": {},
   "outputs": [
    {
     "name": "stdout",
     "output_type": "stream",
     "text": [
      "False\n"
     ]
    }
   ],
   "source": [
    "a= \"anjali\"\n",
    "\n",
    "try:\n",
    "    def isupper(name):\n",
    "        try:\n",
    "            print(s.isupper())\n",
    "        except Exception as e:\n",
    "            print(e)\n",
    "    isupper(a)\n",
    "except Exception as e:\n",
    "            print(e)    "
   ]
  },
  {
   "cell_type": "markdown",
   "id": "520f0f5e",
   "metadata": {},
   "source": [
    "17] islower()\n",
    "\n",
    "* Returns True if all characters in the string are lower case, otherwise its false"
   ]
  },
  {
   "cell_type": "code",
   "execution_count": 7,
   "id": "4c2a693a",
   "metadata": {},
   "outputs": [
    {
     "name": "stdout",
     "output_type": "stream",
     "text": [
      "True\n"
     ]
    }
   ],
   "source": [
    "a= \"anjali\"\n",
    "\n",
    "try:\n",
    "    def islower(name):\n",
    "        try:\n",
    "            print(s.islower())\n",
    "        except Exception as e:\n",
    "            print(e)\n",
    "    islower(a)\n",
    "except Exception as e:\n",
    "            print(e)    "
   ]
  },
  {
   "cell_type": "markdown",
   "id": "2905f662",
   "metadata": {},
   "source": [
    "18] isspace()\n",
    "\n",
    "* Returns True if all characters in the string are whitespaces, otherwise its false"
   ]
  },
  {
   "cell_type": "code",
   "execution_count": 8,
   "id": "9600b8df",
   "metadata": {},
   "outputs": [
    {
     "name": "stdout",
     "output_type": "stream",
     "text": [
      "False\n"
     ]
    }
   ],
   "source": [
    "a= \"anjali\"\n",
    "\n",
    "try:\n",
    "    def isspace(name):\n",
    "        try:\n",
    "            print(s.isspace())\n",
    "        except Exception as e:\n",
    "            print(e)\n",
    "    isspace(a)\n",
    "except Exception as e:\n",
    "            print(e)"
   ]
  },
  {
   "cell_type": "markdown",
   "id": "84809363",
   "metadata": {},
   "source": [
    "19] isalnum()\n",
    "\n",
    "* Returns True if all characters in the string are alphanumeric, otherwise its false"
   ]
  },
  {
   "cell_type": "code",
   "execution_count": 9,
   "id": "48667a2c",
   "metadata": {},
   "outputs": [
    {
     "name": "stdout",
     "output_type": "stream",
     "text": [
      "True\n"
     ]
    }
   ],
   "source": [
    "v=\"34\"\n",
    "\n",
    "try:\n",
    "    def isalnum(name):\n",
    "        try:\n",
    "            print(v.isalnum())\n",
    "        except Exception as e:\n",
    "            print(e)\n",
    "    isalnum(a)\n",
    "except Exception as e:\n",
    "            print(e)    "
   ]
  },
  {
   "cell_type": "markdown",
   "id": "cb0aa8c9",
   "metadata": {},
   "source": [
    "20] isalpha()\n",
    "\n",
    "* Returns True if all characters in the string are in the alphabet, otherwise its false"
   ]
  },
  {
   "cell_type": "code",
   "execution_count": 10,
   "id": "42b8e357",
   "metadata": {},
   "outputs": [
    {
     "name": "stdout",
     "output_type": "stream",
     "text": [
      "False\n"
     ]
    }
   ],
   "source": [
    "v=\"34\"\n",
    "\n",
    "try:\n",
    "    def isalpha(name):\n",
    "        try:\n",
    "            print(v.isalpha())\n",
    "        except Exception as e:\n",
    "            print(e)\n",
    "    isalpha(a)\n",
    "except Exception as e:\n",
    "            print(e)    "
   ]
  },
  {
   "cell_type": "markdown",
   "id": "3e0a2c98",
   "metadata": {},
   "source": [
    "21] startswith()\n",
    "\n",
    "* Returns true if the string starts with the specified value, otherwise its false"
   ]
  },
  {
   "cell_type": "code",
   "execution_count": 11,
   "id": "619b024f",
   "metadata": {},
   "outputs": [
    {
     "name": "stdout",
     "output_type": "stream",
     "text": [
      "True\n"
     ]
    }
   ],
   "source": [
    "s = \"learning python\"\n",
    "\n",
    "try:\n",
    "    def startswith(name):\n",
    "        try:\n",
    "            print(s.startswith(\"learn\"))\n",
    "        except Exception as e:\n",
    "            print(e)\n",
    "    startswith(s)\n",
    "except Exception as e:\n",
    "            print(e)"
   ]
  },
  {
   "cell_type": "markdown",
   "id": "8bfe1489",
   "metadata": {},
   "source": [
    "22] endswith()\n",
    "\n",
    "* Returns true if the string ends with the specified value, otherwise its false"
   ]
  },
  {
   "cell_type": "code",
   "execution_count": 12,
   "id": "81fe11b9",
   "metadata": {},
   "outputs": [
    {
     "name": "stdout",
     "output_type": "stream",
     "text": [
      "True\n"
     ]
    }
   ],
   "source": [
    "s = \"learning python\"\n",
    "\n",
    "try:\n",
    "    def endswith(name):\n",
    "        try:\n",
    "            print(s.endswith(\"python\"))\n",
    "        except Exception as e:\n",
    "            print(e)\n",
    "    endswith(s)\n",
    "except Exception as e:\n",
    "            print(e)"
   ]
  }
 ],
 "metadata": {
  "kernelspec": {
   "display_name": "Python 3 (ipykernel)",
   "language": "python",
   "name": "python3"
  },
  "language_info": {
   "codemirror_mode": {
    "name": "ipython",
    "version": 3
   },
   "file_extension": ".py",
   "mimetype": "text/x-python",
   "name": "python",
   "nbconvert_exporter": "python",
   "pygments_lexer": "ipython3",
   "version": "3.9.12"
  }
 },
 "nbformat": 4,
 "nbformat_minor": 5
}
