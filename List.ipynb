{
 "cells": [
  {
   "cell_type": "markdown",
   "id": "efd25cce",
   "metadata": {},
   "source": [
    "* A list is a collection of items that are ordered and changeable. It is one of the most commonly used data structures in Python programming.\n",
    "* Lists are used to store multiple items in a single variable\n",
    "* list[ ]"
   ]
  },
  {
   "cell_type": "code",
   "execution_count": 1,
   "id": "bffe1680",
   "metadata": {},
   "outputs": [],
   "source": [
    "l = [10,20,20,30,40,50,60,70,80,90,'anju', True, 12.6]"
   ]
  },
  {
   "cell_type": "code",
   "execution_count": 2,
   "id": "3e1158dc",
   "metadata": {},
   "outputs": [
    {
     "data": {
      "text/plain": [
       "[10, 20, 20, 30, 40]"
      ]
     },
     "execution_count": 2,
     "metadata": {},
     "output_type": "execute_result"
    }
   ],
   "source": [
    "# 0 to 5th index\n",
    "l[0:5]"
   ]
  },
  {
   "cell_type": "code",
   "execution_count": 3,
   "id": "3eb334ae",
   "metadata": {},
   "outputs": [
    {
     "data": {
      "text/plain": [
       "[12.6, True, 'anju', 90, 80, 70, 60, 50, 40, 30, 20, 20, 10]"
      ]
     },
     "execution_count": 3,
     "metadata": {},
     "output_type": "execute_result"
    }
   ],
   "source": [
    "# Reverse the list\n",
    "l[::-1]"
   ]
  },
  {
   "cell_type": "code",
   "execution_count": 4,
   "id": "e9174778",
   "metadata": {},
   "outputs": [
    {
     "data": {
      "text/plain": [
       "[10, 20, 30, 40, 50]"
      ]
     },
     "execution_count": 4,
     "metadata": {},
     "output_type": "execute_result"
    }
   ],
   "source": [
    "# To convert the tuple in list\n",
    "t = (10,20,30,40,50)\n",
    "list(t)"
   ]
  },
  {
   "cell_type": "code",
   "execution_count": 5,
   "id": "f2404335",
   "metadata": {},
   "outputs": [],
   "source": [
    "s = \"Learningpython\""
   ]
  },
  {
   "cell_type": "code",
   "execution_count": 6,
   "id": "9b9da77e",
   "metadata": {},
   "outputs": [
    {
     "data": {
      "text/plain": [
       "['L', 'e', 'a', 'r', 'n', 'i', 'n', 'g', 'p', 'y', 't', 'h', 'o', 'n']"
      ]
     },
     "execution_count": 6,
     "metadata": {},
     "output_type": "execute_result"
    }
   ],
   "source": [
    "list(s)"
   ]
  },
  {
   "cell_type": "code",
   "execution_count": 7,
   "id": "67fb318e",
   "metadata": {},
   "outputs": [
    {
     "data": {
      "text/plain": [
       "13"
      ]
     },
     "execution_count": 7,
     "metadata": {},
     "output_type": "execute_result"
    }
   ],
   "source": [
    "# To check the length\n",
    "len(l)"
   ]
  },
  {
   "cell_type": "code",
   "execution_count": 8,
   "id": "854b2c2e",
   "metadata": {},
   "outputs": [],
   "source": [
    "l = [10,20,20,30,40,50,60,70,80,90,'anju', True, 12.6]"
   ]
  },
  {
   "cell_type": "code",
   "execution_count": 9,
   "id": "5f63877d",
   "metadata": {},
   "outputs": [
    {
     "name": "stdout",
     "output_type": "stream",
     "text": [
      "a in list =  True\n",
      "b in list =  False\n"
     ]
    }
   ],
   "source": [
    "a = 40 in l\n",
    "print(\"a in list = \",a)\n",
    "\n",
    "b = 410 in l\n",
    "print(\"b in list = \",b)"
   ]
  },
  {
   "cell_type": "code",
   "execution_count": 10,
   "id": "a1c4623c",
   "metadata": {},
   "outputs": [
    {
     "name": "stdout",
     "output_type": "stream",
     "text": [
      "a not in list =  False\n",
      "b not in list =  True\n"
     ]
    }
   ],
   "source": [
    "a = 90 not in l\n",
    "print(\"a not in list = \",a)\n",
    "\n",
    "b = 100 not in l\n",
    "print(\"b not in list = \",b)"
   ]
  },
  {
   "cell_type": "code",
   "execution_count": 11,
   "id": "aa8b9fe7",
   "metadata": {},
   "outputs": [
    {
     "name": "stdout",
     "output_type": "stream",
     "text": [
      "maximum no in list =  90\n",
      "minimum no in list =  10\n"
     ]
    }
   ],
   "source": [
    "# min and max function use to check maximum and minimum value from list\n",
    "l1=[10,20,30,50,70,90]\n",
    "\n",
    "max(l1)\n",
    "print(\"maximum no in list = \",max(l1))\n",
    "\n",
    "min(l1)\n",
    "print(\"minimum no in list = \",min(l1))"
   ]
  },
  {
   "cell_type": "code",
   "execution_count": 12,
   "id": "7ae3b5fe",
   "metadata": {},
   "outputs": [
    {
     "name": "stdout",
     "output_type": "stream",
     "text": [
      "maximum no in list =  sam\n",
      "minimum no in list =  c\n"
     ]
    }
   ],
   "source": [
    "# In this list items type are same so to check the alphabetically\n",
    "l2 = ['sam','python', 'c', 'java']\n",
    "\n",
    "max(l2)\n",
    "print(\"maximum no in list = \",max(l2))\n",
    "\n",
    "min(l2)\n",
    "print(\"minimum no in list = \",min(l2))"
   ]
  },
  {
   "cell_type": "code",
   "execution_count": 13,
   "id": "fda56ba4",
   "metadata": {},
   "outputs": [
    {
     "data": {
      "text/plain": [
       "[10, 20, 30, 123, 40, 50, 70, 90]"
      ]
     },
     "execution_count": 13,
     "metadata": {},
     "output_type": "execute_result"
    }
   ],
   "source": [
    "# To insert or add a value on index\n",
    "l=[10,20,30,40,50,70,90]\n",
    "\n",
    "l.insert(3,123)\n",
    "l"
   ]
  },
  {
   "cell_type": "code",
   "execution_count": 14,
   "id": "4d408ccb",
   "metadata": {},
   "outputs": [
    {
     "data": {
      "text/plain": [
       "1"
      ]
     },
     "execution_count": 14,
     "metadata": {},
     "output_type": "execute_result"
    }
   ],
   "source": [
    "# To check how many times a value appears in a list\n",
    "l.count(20)"
   ]
  },
  {
   "cell_type": "code",
   "execution_count": 15,
   "id": "2b6b54c7",
   "metadata": {},
   "outputs": [
    {
     "data": {
      "text/plain": [
       "4"
      ]
     },
     "execution_count": 15,
     "metadata": {},
     "output_type": "execute_result"
    }
   ],
   "source": [
    "# To check the index of this value \n",
    "l.index(40)"
   ]
  },
  {
   "cell_type": "code",
   "execution_count": 16,
   "id": "e0cd58b0",
   "metadata": {},
   "outputs": [
    {
     "data": {
      "text/plain": [
       "[10, 20, 30, 40, 50, 70, 90, 'Anjali']"
      ]
     },
     "execution_count": 16,
     "metadata": {},
     "output_type": "execute_result"
    }
   ],
   "source": [
    "# I want to add a new value at the last\n",
    "l=[10,20,30,40,50,70,90]\n",
    "\n",
    "l.append('Anjali')\n",
    "l"
   ]
  },
  {
   "cell_type": "code",
   "execution_count": 17,
   "id": "95a9403e",
   "metadata": {},
   "outputs": [
    {
     "data": {
      "text/plain": [
       "[10, 20, 30, 40, 50, 70, 90, 'Anjali', 'A', 'n', 'j', 'a', 'l', 'i']"
      ]
     },
     "execution_count": 17,
     "metadata": {},
     "output_type": "execute_result"
    }
   ],
   "source": [
    "# To add a list and items on this function\n",
    "# int, float,boolen etc are not possible to add this function\n",
    "l.extend('Anjali')\n",
    "l"
   ]
  },
  {
   "cell_type": "code",
   "execution_count": 18,
   "id": "62ae759f",
   "metadata": {},
   "outputs": [
    {
     "data": {
      "text/plain": [
       "[10, 20, 20, 30, 40, 50, 60, 70, 80, 90, 'anju', True]"
      ]
     },
     "execution_count": 18,
     "metadata": {},
     "output_type": "execute_result"
    }
   ],
   "source": [
    "# Remove the last element\n",
    "l = [10,20,20,30,40,50,60,70,80,90,'anju', True, 12.6]\n",
    "\n",
    "l.pop() \n",
    "l"
   ]
  },
  {
   "cell_type": "code",
   "execution_count": 19,
   "id": "77cad6e4",
   "metadata": {},
   "outputs": [
    {
     "data": {
      "text/plain": [
       "[20, 20, 30, 40, 50, 60, 70, 80, 90, 'anju', True]"
      ]
     },
     "execution_count": 19,
     "metadata": {},
     "output_type": "execute_result"
    }
   ],
   "source": [
    "# To remove the values\n",
    "l.remove(10)\n",
    "l"
   ]
  },
  {
   "cell_type": "code",
   "execution_count": 20,
   "id": "df2424de",
   "metadata": {},
   "outputs": [
    {
     "data": {
      "text/plain": [
       "[20, 20, 30, 50, 60, 70, 80, 90, 'anju', True]"
      ]
     },
     "execution_count": 20,
     "metadata": {},
     "output_type": "execute_result"
    }
   ],
   "source": [
    "# To remove this index of value\n",
    "del l[3]\n",
    "l"
   ]
  },
  {
   "cell_type": "code",
   "execution_count": 21,
   "id": "b3264ddf",
   "metadata": {},
   "outputs": [
    {
     "data": {
      "text/plain": [
       "[True, 'anju', 90, 80, 70, 60, 50, 30, 20, 20]"
      ]
     },
     "execution_count": 21,
     "metadata": {},
     "output_type": "execute_result"
    }
   ],
   "source": [
    "# To reverse the list\n",
    "l.reverse()\n",
    "l"
   ]
  },
  {
   "cell_type": "code",
   "execution_count": 22,
   "id": "f6d2a311",
   "metadata": {},
   "outputs": [
    {
     "data": {
      "text/plain": [
       "['c', 'java', 'python', 'sam']"
      ]
     },
     "execution_count": 22,
     "metadata": {},
     "output_type": "execute_result"
    }
   ],
   "source": [
    "# Sort the list in ascending\n",
    "l2 = ['sam','python', 'c', 'java']\n",
    "l2.sort()\n",
    "l2"
   ]
  },
  {
   "cell_type": "code",
   "execution_count": 23,
   "id": "570a5a31",
   "metadata": {},
   "outputs": [
    {
     "data": {
      "text/plain": [
       "[True, 'anju', 90, 80, 70, 60, 50, 30, 20, 20]"
      ]
     },
     "execution_count": 23,
     "metadata": {},
     "output_type": "execute_result"
    }
   ],
   "source": [
    "# I want copy in list\n",
    "l3 = l.copy()\n",
    "l3"
   ]
  },
  {
   "cell_type": "code",
   "execution_count": 24,
   "id": "c60bc620",
   "metadata": {},
   "outputs": [
    {
     "data": {
      "text/plain": [
       "[[1, 2, 3], [4, 5, 6], [7, 8, 9]]"
      ]
     },
     "execution_count": 24,
     "metadata": {},
     "output_type": "execute_result"
    }
   ],
   "source": [
    "# Nested list\n",
    "\n",
    "l1 = [1,2,3]\n",
    "l2 = [4,5,6]\n",
    "l3 = [7,8,9]\n",
    "\n",
    "l4 = [l1,l2,l3]\n",
    "l4"
   ]
  },
  {
   "cell_type": "code",
   "execution_count": 25,
   "id": "aa05c1f5",
   "metadata": {},
   "outputs": [
    {
     "data": {
      "text/plain": [
       "[4, 5, 6]"
      ]
     },
     "execution_count": 25,
     "metadata": {},
     "output_type": "execute_result"
    }
   ],
   "source": [
    "l4[1]"
   ]
  },
  {
   "cell_type": "code",
   "execution_count": 26,
   "id": "20bc2e22",
   "metadata": {},
   "outputs": [
    {
     "data": {
      "text/plain": [
       "6"
      ]
     },
     "execution_count": 26,
     "metadata": {},
     "output_type": "execute_result"
    }
   ],
   "source": [
    "l4[1][2]"
   ]
  }
 ],
 "metadata": {
  "kernelspec": {
   "display_name": "Python 3 (ipykernel)",
   "language": "python",
   "name": "python3"
  },
  "language_info": {
   "codemirror_mode": {
    "name": "ipython",
    "version": 3
   },
   "file_extension": ".py",
   "mimetype": "text/x-python",
   "name": "python",
   "nbconvert_exporter": "python",
   "pygments_lexer": "ipython3",
   "version": "3.9.12"
  }
 },
 "nbformat": 4,
 "nbformat_minor": 5
}
