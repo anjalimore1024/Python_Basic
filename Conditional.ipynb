{
 "cells": [
  {
   "cell_type": "markdown",
   "id": "82c2c224",
   "metadata": {},
   "source": [
    "* If you have 1 condition use 'if'\n",
    "* If you have 2 condition use 'if - else'\n",
    "* If you have multiple condition use 'elif' between 'if - else'"
   ]
  },
  {
   "cell_type": "code",
   "execution_count": 1,
   "id": "99c304d3",
   "metadata": {},
   "outputs": [
    {
     "name": "stdout",
     "output_type": "stream",
     "text": [
      "A is a positive number\n"
     ]
    }
   ],
   "source": [
    "# Example of 1st Condition\n",
    "a = 12\n",
    "if a > 0:\n",
    "    print(\"A is a positive number\")"
   ]
  },
  {
   "cell_type": "code",
   "execution_count": 2,
   "id": "fc8261e9",
   "metadata": {},
   "outputs": [
    {
     "name": "stdout",
     "output_type": "stream",
     "text": [
      "A is not positive number\n"
     ]
    }
   ],
   "source": [
    "# Example of 2nd Condition\n",
    "a = -15\n",
    "if a > 0:\n",
    "    print(\"A is a positive number\")\n",
    "else:\n",
    "    print(\"A is not positive number\")"
   ]
  },
  {
   "cell_type": "code",
   "execution_count": 3,
   "id": "e6c3d09f",
   "metadata": {},
   "outputs": [
    {
     "name": "stdout",
     "output_type": "stream",
     "text": [
      "Enter a number : 55\n",
      "A is a positive number\n"
     ]
    }
   ],
   "source": [
    "# Example of multiple condition\n",
    "a = int(input('Enter a number : '))\n",
    "if a > 0:\n",
    "    print(\"A is a positive number\")\n",
    "elif a==0:\n",
    "    print(\"A is zero\")\n",
    "else:\n",
    "    print(\"A is not positive number\")"
   ]
  },
  {
   "cell_type": "code",
   "execution_count": 4,
   "id": "c1ce1767",
   "metadata": {},
   "outputs": [
    {
     "name": "stdout",
     "output_type": "stream",
     "text": [
      "Enter a number : 34\n",
      "Enter a number : 10\n",
      "A is greater\n"
     ]
    }
   ],
   "source": [
    "# To check a is grether than b\n",
    "\n",
    "a = int(input(\"Enter a number : \"))\n",
    "b = int(input(\"Enter a number : \"))\n",
    "\n",
    "if a > b:\n",
    "    print(\"A is greater\")\n",
    "else: \n",
    "    print(\"B is greater\")"
   ]
  },
  {
   "cell_type": "code",
   "execution_count": 5,
   "id": "de77d881",
   "metadata": {},
   "outputs": [
    {
     "name": "stdout",
     "output_type": "stream",
     "text": [
      "A is greater\n"
     ]
    }
   ],
   "source": [
    "# Function in one line\n",
    "print(\"A is greater\") if a > b else print(\"B is greater\")"
   ]
  },
  {
   "cell_type": "code",
   "execution_count": 6,
   "id": "3fabf87e",
   "metadata": {},
   "outputs": [
    {
     "name": "stdout",
     "output_type": "stream",
     "text": [
      "Enter a number : 76\n",
      "This is an even number\n"
     ]
    }
   ],
   "source": [
    "# To check even and odd number\n",
    "a = int(input(\"Enter a number : \"))\n",
    "\n",
    "if a/2 ==0:\n",
    "    print(\"This is an odd number\")\n",
    "else:\n",
    "    print(\"This is an even number\")"
   ]
  },
  {
   "cell_type": "code",
   "execution_count": 7,
   "id": "e98490e9",
   "metadata": {},
   "outputs": [
    {
     "name": "stdout",
     "output_type": "stream",
     "text": [
      "Enter a number : 25\n",
      "A is greater than 10\n",
      "A is greater than 20\n",
      "A is greater than 20 but less than 30\n"
     ]
    }
   ],
   "source": [
    "a = int(input(\"Enter a number : \"))\n",
    "\n",
    "if a > 10:\n",
    "    print(\"A is greater than 10\")\n",
    "    if a > 20:\n",
    "        print('A is greater than 20')\n",
    "        if a > 30:\n",
    "            print('A is greater than 30')\n",
    "        else:\n",
    "            print(\"A is greater than 20 but less than 30\")\n",
    "    else:\n",
    "         print(\"A is greater than 10 but less than 20\")\n",
    "else:\n",
    "     print(\"A is smaller\")"
   ]
  },
  {
   "cell_type": "code",
   "execution_count": 8,
   "id": "4bc32781",
   "metadata": {},
   "outputs": [
    {
     "name": "stdout",
     "output_type": "stream",
     "text": [
      "Enter a username : anju\n",
      "Enter a Password : 12345\n",
      "Logged In\n"
     ]
    }
   ],
   "source": [
    "# and\n",
    "username = input(\"Enter a username : \")\n",
    "Password = input(\"Enter a Password : \")\n",
    "\n",
    "if username == \"anju\" and Password == \"12345\":\n",
    "     print(\"Logged In\")\n",
    "else:\n",
    "    print(\"Username/Password is incorrect\")"
   ]
  },
  {
   "cell_type": "code",
   "execution_count": 9,
   "id": "b7c8a818",
   "metadata": {},
   "outputs": [
    {
     "name": "stdout",
     "output_type": "stream",
     "text": [
      "This is string\n"
     ]
    }
   ],
   "source": [
    "# To check type of a is int ,str ,floate and invalid\n",
    "\n",
    "a = '12'\n",
    "\n",
    "if type(a) == int or type(a) == float:\n",
    "    print(\"the input is number\")\n",
    "elif type(a) == str:\n",
    "    print(\"This is string\")\n",
    "else:\n",
    "    print(\"input is invalid\")"
   ]
  },
  {
   "cell_type": "code",
   "execution_count": 10,
   "id": "df24a90a",
   "metadata": {},
   "outputs": [
    {
     "name": "stdout",
     "output_type": "stream",
     "text": [
      "Enter your phone number : 123456789\n",
      "Enter a correct number\n"
     ]
    }
   ],
   "source": [
    "# condition for Phone number\n",
    "\n",
    "a = input(\"Enter your phone number : \")\n",
    "\n",
    "if len(a) == 10:\n",
    "    print(\"number is valid\")\n",
    "else:\n",
    "    print(\"Enter a correct number\")"
   ]
  }
 ],
 "metadata": {
  "kernelspec": {
   "display_name": "Python 3 (ipykernel)",
   "language": "python",
   "name": "python3"
  },
  "language_info": {
   "codemirror_mode": {
    "name": "ipython",
    "version": 3
   },
   "file_extension": ".py",
   "mimetype": "text/x-python",
   "name": "python",
   "nbconvert_exporter": "python",
   "pygments_lexer": "ipython3",
   "version": "3.9.12"
  }
 },
 "nbformat": 4,
 "nbformat_minor": 5
}
