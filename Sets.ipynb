{
 "cells": [
  {
   "cell_type": "markdown",
   "id": "245d0f64",
   "metadata": {},
   "source": [
    "Sets are used to store multiple items in a single variable.\n",
    "* set{}"
   ]
  },
  {
   "cell_type": "code",
   "execution_count": 2,
   "id": "f81652a6",
   "metadata": {},
   "outputs": [],
   "source": [
    "s = {10,20,30,40,50,20,10,60,20,30,1.5,\"python\", True}\n",
    "s1 = {1,2,3,4}"
   ]
  },
  {
   "cell_type": "code",
   "execution_count": 3,
   "id": "27118419",
   "metadata": {},
   "outputs": [],
   "source": [
    "# To add a numbers,...  etc.\n",
    "s.add(200)"
   ]
  },
  {
   "cell_type": "code",
   "execution_count": 4,
   "id": "ef14c899",
   "metadata": {},
   "outputs": [],
   "source": [
    "# To add any vaiable and update set with the union of this set and others\n",
    "s.update(s1)"
   ]
  },
  {
   "cell_type": "code",
   "execution_count": 5,
   "id": "7693aa55",
   "metadata": {},
   "outputs": [
    {
     "data": {
      "text/plain": [
       "{1.5, 10, 2, 20, 200, 3, 30, 4, 40, 50, 60, True, 'python'}"
      ]
     },
     "execution_count": 5,
     "metadata": {},
     "output_type": "execute_result"
    }
   ],
   "source": [
    "s"
   ]
  },
  {
   "cell_type": "code",
   "execution_count": 6,
   "id": "8515d277",
   "metadata": {},
   "outputs": [
    {
     "data": {
      "text/plain": [
       "{1, 2, 3, 4}"
      ]
     },
     "execution_count": 6,
     "metadata": {},
     "output_type": "execute_result"
    }
   ],
   "source": [
    "# Returns a copy of the set\n",
    "s2 = s1.copy()\n",
    "s2"
   ]
  },
  {
   "cell_type": "code",
   "execution_count": 7,
   "id": "b489ecf7",
   "metadata": {},
   "outputs": [
    {
     "data": {
      "text/plain": [
       "1.5"
      ]
     },
     "execution_count": 7,
     "metadata": {},
     "output_type": "execute_result"
    }
   ],
   "source": [
    "#set, list, dict in set it removes first element(Removes an element from the set)\n",
    "s.pop() "
   ]
  },
  {
   "cell_type": "code",
   "execution_count": 8,
   "id": "8bc11839",
   "metadata": {},
   "outputs": [
    {
     "data": {
      "text/plain": [
       "{10, 2, 200, 3, 30, 4, 40, 50, 60, True, 'python'}"
      ]
     },
     "execution_count": 8,
     "metadata": {},
     "output_type": "execute_result"
    }
   ],
   "source": [
    "# Removes the specified element\n",
    "s.remove(20)\n",
    "s"
   ]
  },
  {
   "cell_type": "code",
   "execution_count": 9,
   "id": "d4b211f2",
   "metadata": {},
   "outputs": [
    {
     "data": {
      "text/plain": [
       "{10, 2, 200, 3, 30, 4, 40, 50, 60, True, 'python'}"
      ]
     },
     "execution_count": 9,
     "metadata": {},
     "output_type": "execute_result"
    }
   ],
   "source": [
    "# Remove the specified item\n",
    "s.discard(134)\n",
    "s"
   ]
  },
  {
   "cell_type": "code",
   "execution_count": 10,
   "id": "0fd492b4",
   "metadata": {},
   "outputs": [
    {
     "data": {
      "text/plain": [
       "set()"
      ]
     },
     "execution_count": 10,
     "metadata": {},
     "output_type": "execute_result"
    }
   ],
   "source": [
    "# Removes all the elements from the set\n",
    "s.clear()\n",
    "s"
   ]
  },
  {
   "cell_type": "code",
   "execution_count": 11,
   "id": "846c5cbe",
   "metadata": {},
   "outputs": [
    {
     "data": {
      "text/plain": [
       "(10, 20, 30, 40, 50, 10, 20)"
      ]
     },
     "execution_count": 11,
     "metadata": {},
     "output_type": "execute_result"
    }
   ],
   "source": [
    "t = (10,20,30,40,50,10,20)\n",
    "t"
   ]
  },
  {
   "cell_type": "code",
   "execution_count": 12,
   "id": "fff39877",
   "metadata": {},
   "outputs": [
    {
     "data": {
      "text/plain": [
       "{10, 20, 30, 40, 50}"
      ]
     },
     "execution_count": 12,
     "metadata": {},
     "output_type": "execute_result"
    }
   ],
   "source": [
    "# I want unique character \n",
    "set(t)"
   ]
  },
  {
   "cell_type": "code",
   "execution_count": 13,
   "id": "0d095452",
   "metadata": {},
   "outputs": [],
   "source": [
    "s = \"pythonpycharm\""
   ]
  },
  {
   "cell_type": "code",
   "execution_count": 14,
   "id": "c77e77e3",
   "metadata": {},
   "outputs": [
    {
     "data": {
      "text/plain": [
       "{'a', 'c', 'h', 'm', 'n', 'o', 'p', 'r', 't', 'y'}"
      ]
     },
     "execution_count": 14,
     "metadata": {},
     "output_type": "execute_result"
    }
   ],
   "source": [
    "# unique character in ascending order\n",
    "set(s)"
   ]
  },
  {
   "cell_type": "code",
   "execution_count": 15,
   "id": "13970d04",
   "metadata": {},
   "outputs": [
    {
     "data": {
      "text/plain": [
       "'mrahcypnohtyp'"
      ]
     },
     "execution_count": 15,
     "metadata": {},
     "output_type": "execute_result"
    }
   ],
   "source": [
    "# To reverse the word\n",
    "s[::-1] "
   ]
  },
  {
   "cell_type": "code",
   "execution_count": 16,
   "id": "ca6e27b2",
   "metadata": {},
   "outputs": [],
   "source": [
    "d = {\"key\": \"value\", \"a\": 12, \"c\": 122}"
   ]
  },
  {
   "cell_type": "code",
   "execution_count": 17,
   "id": "0dcca193",
   "metadata": {},
   "outputs": [
    {
     "data": {
      "text/plain": [
       "{'a', 'c', 'key'}"
      ]
     },
     "execution_count": 17,
     "metadata": {},
     "output_type": "execute_result"
    }
   ],
   "source": [
    "set(d)"
   ]
  },
  {
   "cell_type": "code",
   "execution_count": 18,
   "id": "f2b8f5eb",
   "metadata": {},
   "outputs": [],
   "source": [
    "s = {10,20,30,4,5,6}\n",
    "s1 = {1,2,30,4,7,8}"
   ]
  },
  {
   "cell_type": "code",
   "execution_count": 19,
   "id": "14cf958f",
   "metadata": {},
   "outputs": [
    {
     "data": {
      "text/plain": [
       "{4, 30}"
      ]
     },
     "execution_count": 19,
     "metadata": {},
     "output_type": "execute_result"
    }
   ],
   "source": [
    "# To find unique element in sets\n",
    "s.intersection(s1)"
   ]
  },
  {
   "cell_type": "code",
   "execution_count": 20,
   "id": "cd78898b",
   "metadata": {},
   "outputs": [
    {
     "data": {
      "text/plain": [
       "{1, 2, 4, 5, 6, 7, 8, 10, 20, 30}"
      ]
     },
     "execution_count": 20,
     "metadata": {},
     "output_type": "execute_result"
    }
   ],
   "source": [
    "# All elements in 2 sets will meet \n",
    "s.union(s1)"
   ]
  },
  {
   "cell_type": "code",
   "execution_count": 21,
   "id": "da8b01ce",
   "metadata": {},
   "outputs": [
    {
     "data": {
      "text/plain": [
       "{1, 2, 5, 6, 7, 8, 10, 20}"
      ]
     },
     "execution_count": 21,
     "metadata": {},
     "output_type": "execute_result"
    }
   ],
   "source": [
    "# It gives no common element\n",
    "s.symmetric_difference(s1)"
   ]
  },
  {
   "cell_type": "code",
   "execution_count": 22,
   "id": "57bca904",
   "metadata": {},
   "outputs": [
    {
     "data": {
      "text/plain": [
       "{5, 6, 10, 20}"
      ]
     },
     "execution_count": 22,
     "metadata": {},
     "output_type": "execute_result"
    }
   ],
   "source": [
    "# values of s is not in s1 that values gives\n",
    "s.difference(s1)"
   ]
  },
  {
   "cell_type": "code",
   "execution_count": 23,
   "id": "2ccd9518",
   "metadata": {},
   "outputs": [
    {
     "data": {
      "text/plain": [
       "True"
      ]
     },
     "execution_count": 23,
     "metadata": {},
     "output_type": "execute_result"
    }
   ],
   "source": [
    "# membership you can use in any the operator or datatype\n",
    "4 in s"
   ]
  }
 ],
 "metadata": {
  "kernelspec": {
   "display_name": "Python 3 (ipykernel)",
   "language": "python",
   "name": "python3"
  },
  "language_info": {
   "codemirror_mode": {
    "name": "ipython",
    "version": 3
   },
   "file_extension": ".py",
   "mimetype": "text/x-python",
   "name": "python",
   "nbconvert_exporter": "python",
   "pygments_lexer": "ipython3",
   "version": "3.9.12"
  }
 },
 "nbformat": 4,
 "nbformat_minor": 5
}
