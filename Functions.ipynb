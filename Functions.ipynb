{
 "cells": [
  {
   "cell_type": "markdown",
   "id": "7d99ecea",
   "metadata": {},
   "source": [
    "A function is a block of code which only runs when it is called. You can pass data, known as parameters, into a function. A function can return data as a result."
   ]
  },
  {
   "cell_type": "code",
   "execution_count": 1,
   "id": "1929fe8d",
   "metadata": {},
   "outputs": [],
   "source": [
    "Anju = [1200,3000,2200,3300]\n",
    "Shraddha = [2500,5000,7000,4500]\n",
    "pallavi = [4500,5000,7000,4500]"
   ]
  },
  {
   "cell_type": "code",
   "execution_count": 2,
   "id": "b3ff13b9",
   "metadata": {},
   "outputs": [
    {
     "name": "stdout",
     "output_type": "stream",
     "text": [
      "9700\n"
     ]
    }
   ],
   "source": [
    "# Addition of list\n",
    "total_expense = 0\n",
    "for i in Anju:\n",
    "    \n",
    "#    print(i)\n",
    "    #total_expense = total_expense + i\n",
    "    total_expense += i\n",
    "print(total_expense)"
   ]
  },
  {
   "cell_type": "code",
   "execution_count": 3,
   "id": "41feb12c",
   "metadata": {},
   "outputs": [
    {
     "name": "stdout",
     "output_type": "stream",
     "text": [
      "19000\n"
     ]
    }
   ],
   "source": [
    "total_expense = 0\n",
    "for i in Shraddha:\n",
    "    \n",
    "#    print(i)\n",
    "    #total_expense = total_expense + i\n",
    "    total_expense += i\n",
    "print(total_expense)"
   ]
  },
  {
   "cell_type": "raw",
   "id": "fd2cbbea",
   "metadata": {},
   "source": [
    "Functions(definition)\n",
    "Functions(excution)\n",
    "Functions(calling)"
   ]
  },
  {
   "cell_type": "code",
   "execution_count": 4,
   "id": "0ef88fc1",
   "metadata": {},
   "outputs": [],
   "source": [
    "# This function returns total expense done by employee till date\n",
    "def expense(name):\n",
    "    total_expense = 0\n",
    "    for i in name:\n",
    "        total_expense +=i\n",
    "    print(total_expense)"
   ]
  },
  {
   "cell_type": "code",
   "execution_count": 5,
   "id": "392db770",
   "metadata": {},
   "outputs": [
    {
     "name": "stdout",
     "output_type": "stream",
     "text": [
      "21000\n"
     ]
    }
   ],
   "source": [
    "expense(pallavi)"
   ]
  },
  {
   "cell_type": "code",
   "execution_count": 6,
   "id": "902de552",
   "metadata": {},
   "outputs": [],
   "source": [
    "# To let a function return a value, use the return\n",
    "def add(a,b,c,d):\n",
    "    return a,b,c,d"
   ]
  },
  {
   "cell_type": "code",
   "execution_count": 7,
   "id": "a52cb0e1",
   "metadata": {},
   "outputs": [
    {
     "data": {
      "text/plain": [
       "('anju', 'abc', 'shraddha', 'pallavi')"
      ]
     },
     "execution_count": 7,
     "metadata": {},
     "output_type": "execute_result"
    }
   ],
   "source": [
    "add('anju','abc','shraddha','pallavi')"
   ]
  },
  {
   "cell_type": "code",
   "execution_count": 8,
   "id": "d1352d1e",
   "metadata": {},
   "outputs": [],
   "source": [
    "# whenever use this * means i can add multiple information min as to 1\n",
    "#  * argument and ** keywordarguments\n",
    "def add(*a): \n",
    "    return a"
   ]
  },
  {
   "cell_type": "code",
   "execution_count": 9,
   "id": "b25ac947",
   "metadata": {},
   "outputs": [
    {
     "data": {
      "text/plain": [
       "('anju', 'abc', 'shraddha', 'pallavi', 'anju', 'abc', 'shraddha', 'pallavi')"
      ]
     },
     "execution_count": 9,
     "metadata": {},
     "output_type": "execute_result"
    }
   ],
   "source": [
    "add('anju','abc','shraddha','pallavi','anju','abc','shraddha','pallavi')"
   ]
  },
  {
   "cell_type": "code",
   "execution_count": 10,
   "id": "9b16bc77",
   "metadata": {},
   "outputs": [
    {
     "data": {
      "text/plain": [
       "[]"
      ]
     },
     "execution_count": 10,
     "metadata": {},
     "output_type": "execute_result"
    }
   ],
   "source": [
    "l = []\n",
    "l"
   ]
  },
  {
   "cell_type": "code",
   "execution_count": 11,
   "id": "1ed46651",
   "metadata": {},
   "outputs": [
    {
     "data": {
      "text/plain": [
       "[12]"
      ]
     },
     "execution_count": 11,
     "metadata": {},
     "output_type": "execute_result"
    }
   ],
   "source": [
    "# You will type number again and again this number will created list\n",
    "l.append(12)\n",
    "l"
   ]
  },
  {
   "cell_type": "code",
   "execution_count": 12,
   "id": "8dcfced2",
   "metadata": {},
   "outputs": [],
   "source": [
    "# You will type number again and again this number will created list\n",
    "l = []\n",
    "def append(*a):\n",
    "    for i in a:\n",
    "        l.append(i)\n",
    "    return l"
   ]
  },
  {
   "cell_type": "code",
   "execution_count": 13,
   "id": "0fcf8899",
   "metadata": {},
   "outputs": [
    {
     "data": {
      "text/plain": [
       "[1, 2, 3, 4]"
      ]
     },
     "execution_count": 13,
     "metadata": {},
     "output_type": "execute_result"
    }
   ],
   "source": [
    "append(1,2,3,4)"
   ]
  },
  {
   "cell_type": "code",
   "execution_count": 14,
   "id": "9259b9e5",
   "metadata": {},
   "outputs": [
    {
     "data": {
      "text/plain": [
       "[1, 2, 3, 4, 5, 6, 7, 8]"
      ]
     },
     "execution_count": 14,
     "metadata": {},
     "output_type": "execute_result"
    }
   ],
   "source": [
    "append(5,6,7,8)"
   ]
  },
  {
   "cell_type": "code",
   "execution_count": 15,
   "id": "1b871127",
   "metadata": {},
   "outputs": [],
   "source": [
    "# last * use You will type number again and again this number will created new list to this list\n",
    "def test(a,b,c,d,*e):\n",
    "    return a,b,c,d,e"
   ]
  },
  {
   "cell_type": "code",
   "execution_count": 16,
   "id": "8904779c",
   "metadata": {},
   "outputs": [
    {
     "data": {
      "text/plain": [
       "(1, 2, 3, 4, (5, 2, 3, 4, 1, 3))"
      ]
     },
     "execution_count": 16,
     "metadata": {},
     "output_type": "execute_result"
    }
   ],
   "source": [
    "test(1,2,3,4,5,2,3,4,1,3)"
   ]
  },
  {
   "cell_type": "raw",
   "id": "184614db",
   "metadata": {},
   "source": [
    "Types of Functions:\n",
    "1. Functions with no parameter\n",
    "2. Functions with parameter\n",
    "3. Functions with default parameter\n",
    "4. Functions with return parameter "
   ]
  },
  {
   "cell_type": "code",
   "execution_count": 17,
   "id": "4bb6a666",
   "metadata": {},
   "outputs": [],
   "source": [
    "# 1. Functions with no parameter\n",
    "def test():\n",
    "    print(\"This is func with no paramter\")"
   ]
  },
  {
   "cell_type": "code",
   "execution_count": 18,
   "id": "183a7d71",
   "metadata": {},
   "outputs": [
    {
     "name": "stdout",
     "output_type": "stream",
     "text": [
      "This is func with no paramter\n"
     ]
    }
   ],
   "source": [
    "test()"
   ]
  },
  {
   "cell_type": "code",
   "execution_count": 19,
   "id": "fcb507e8",
   "metadata": {},
   "outputs": [],
   "source": [
    "# 2. Functions with parameter\n",
    "def test1(a,b):\n",
    "    print(\"Value of a is : \",a)\n",
    "    print(\"Value of a is : \",b)"
   ]
  },
  {
   "cell_type": "code",
   "execution_count": 20,
   "id": "f24e1c0b",
   "metadata": {},
   "outputs": [
    {
     "name": "stdout",
     "output_type": "stream",
     "text": [
      "Value of a is :  111\n",
      "Value of a is :  anju\n"
     ]
    }
   ],
   "source": [
    "test1(111,\"anju\")"
   ]
  },
  {
   "cell_type": "code",
   "execution_count": 21,
   "id": "c9e36909",
   "metadata": {},
   "outputs": [
    {
     "name": "stdout",
     "output_type": "stream",
     "text": [
      "Value of a is :  10\n",
      "Value of a is :  python\n"
     ]
    }
   ],
   "source": [
    "# 3.Functions with default parameter\n",
    "def test2(a = 10, b =\"python\"):\n",
    "    print(\"Value of a is : \",a)\n",
    "    print(\"Value of a is : \",b)\n",
    "test2()"
   ]
  },
  {
   "cell_type": "code",
   "execution_count": 22,
   "id": "99fe572d",
   "metadata": {},
   "outputs": [
    {
     "data": {
      "text/plain": [
       "(3, 4)"
      ]
     },
     "execution_count": 22,
     "metadata": {},
     "output_type": "execute_result"
    }
   ],
   "source": [
    "# 4. Functions with return parameter \n",
    "def test3(a,b):\n",
    "    return a,b\n",
    "test3(3,4)"
   ]
  },
  {
   "cell_type": "code",
   "execution_count": 23,
   "id": "b5f853a2",
   "metadata": {},
   "outputs": [
    {
     "data": {
      "text/plain": [
       "7"
      ]
     },
     "execution_count": 23,
     "metadata": {},
     "output_type": "execute_result"
    }
   ],
   "source": [
    "# it also use addition, multiplication and all\n",
    "def test3(a,b):\n",
    "    c = a+b \n",
    "    return c\n",
    "test3(3,4)"
   ]
  },
  {
   "cell_type": "code",
   "execution_count": 24,
   "id": "c6f25643",
   "metadata": {},
   "outputs": [],
   "source": [
    "# whenever we use **  use key and value\n",
    "def test(**info):\n",
    "    return info"
   ]
  },
  {
   "cell_type": "code",
   "execution_count": 25,
   "id": "3304ea97",
   "metadata": {},
   "outputs": [
    {
     "data": {
      "text/plain": [
       "{'name': 'samir', 'skills': ['python', 'html']}"
      ]
     },
     "execution_count": 25,
     "metadata": {},
     "output_type": "execute_result"
    }
   ],
   "source": [
    "test(name = \"samir\", skills = ['python','html'])"
   ]
  },
  {
   "cell_type": "code",
   "execution_count": 26,
   "id": "86c75b4e",
   "metadata": {},
   "outputs": [],
   "source": [
    "def test1(*a,**info):\n",
    "    return a,info"
   ]
  },
  {
   "cell_type": "code",
   "execution_count": 27,
   "id": "f10655b2",
   "metadata": {},
   "outputs": [
    {
     "data": {
      "text/plain": [
       "((1, 2), {'a': 'anju'})"
      ]
     },
     "execution_count": 27,
     "metadata": {},
     "output_type": "execute_result"
    }
   ],
   "source": [
    "test1(1,2 ,a = \"anju\")"
   ]
  },
  {
   "cell_type": "code",
   "execution_count": 28,
   "id": "a80e5dc3",
   "metadata": {},
   "outputs": [],
   "source": [
    "# If the list contains integer values then add them to b and append them to the list\n",
    "def test(*a):\n",
    "    b = 5\n",
    "    l = []\n",
    "    for i in a:\n",
    "        if type(i) == int:\n",
    "            final = b+i\n",
    "            l.append(final)\n",
    "        elif type(i) == float:\n",
    "            print(i)\n",
    "    print(\"final list is :\",l)        "
   ]
  },
  {
   "cell_type": "code",
   "execution_count": 29,
   "id": "a99dd41f",
   "metadata": {},
   "outputs": [
    {
     "name": "stdout",
     "output_type": "stream",
     "text": [
      "3.5\n",
      "final list is : [9, 13, 11]\n"
     ]
    }
   ],
   "source": [
    "test(4,8,3.5,\"2\",6,'h')"
   ]
  },
  {
   "cell_type": "code",
   "execution_count": 30,
   "id": "1c0e0fa6",
   "metadata": {},
   "outputs": [
    {
     "name": "stdout",
     "output_type": "stream",
     "text": [
      "10\n"
     ]
    }
   ],
   "source": [
    "# global variable \n",
    "a = 10\n",
    "def add(s):\n",
    "    print(s) \n",
    "add(a)"
   ]
  },
  {
   "cell_type": "code",
   "execution_count": 31,
   "id": "62501bf2",
   "metadata": {},
   "outputs": [
    {
     "name": "stdout",
     "output_type": "stream",
     "text": [
      "13\n"
     ]
    }
   ],
   "source": [
    "print(a+3)"
   ]
  },
  {
   "cell_type": "code",
   "execution_count": 32,
   "id": "77db8a12",
   "metadata": {},
   "outputs": [
    {
     "name": "stdout",
     "output_type": "stream",
     "text": [
      "10\n"
     ]
    }
   ],
   "source": [
    "# Functions with no parameter\n",
    "# Local variable / will only in your functin or while calling this function \n",
    "def add():\n",
    "    ab = 10\n",
    "    print(ab)\n",
    "add()    "
   ]
  },
  {
   "cell_type": "code",
   "execution_count": 34,
   "id": "02f47608",
   "metadata": {},
   "outputs": [
    {
     "name": "stdout",
     "output_type": "stream",
     "text": [
      "input a number123\n",
      "This is an odd number\n"
     ]
    }
   ],
   "source": [
    "# keep on adding things if you want any on function\n",
    "def odd_even(n):\n",
    "    if n%2 == 0:\n",
    "        print(\"This is an even number\")\n",
    "    else:\n",
    "        print(\"This is an odd number\")\n",
    "odd_even(n = int(input('input a number')))"
   ]
  }
 ],
 "metadata": {
  "kernelspec": {
   "display_name": "Python 3 (ipykernel)",
   "language": "python",
   "name": "python3"
  },
  "language_info": {
   "codemirror_mode": {
    "name": "ipython",
    "version": 3
   },
   "file_extension": ".py",
   "mimetype": "text/x-python",
   "name": "python",
   "nbconvert_exporter": "python",
   "pygments_lexer": "ipython3",
   "version": "3.9.12"
  }
 },
 "nbformat": 4,
 "nbformat_minor": 5
}
