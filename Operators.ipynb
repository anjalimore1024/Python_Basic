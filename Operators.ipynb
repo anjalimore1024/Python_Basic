{
 "cells": [
  {
   "cell_type": "markdown",
   "id": "10bfc801",
   "metadata": {},
   "source": [
    "operators are symbols or keywords that perform an operation on one or more operands."
   ]
  },
  {
   "cell_type": "raw",
   "id": "798625b6",
   "metadata": {},
   "source": [
    "1. Mathematical/Arthematic\n",
    "2. Relational/comparison\n",
    "3. Logical\n",
    "4. Assignment\n",
    "5. Bitwise\n",
    "6. Membership\n",
    "7. Identity"
   ]
  },
  {
   "cell_type": "markdown",
   "id": "2a70afc6",
   "metadata": {},
   "source": [
    "1. Mathematical/Arthematic :- +, -, *, /, //, %,\n"
   ]
  },
  {
   "cell_type": "code",
   "execution_count": 3,
   "id": "a38e9220",
   "metadata": {},
   "outputs": [
    {
     "name": "stdout",
     "output_type": "stream",
     "text": [
      "Addition: 13\n",
      "Subtraction: 7\n",
      "Multiplication: 30\n",
      "Division: 3.3333333333333335\n",
      "Modulus: 1\n",
      "Exponentiation: 1000\n"
     ]
    }
   ],
   "source": [
    "a = 10\n",
    "b = 3\n",
    "\n",
    "# addition\n",
    "c = a + b\n",
    "print(\"Addition:\", c)\n",
    "\n",
    "# subtraction\n",
    "d = a - b\n",
    "print(\"Subtraction:\", d)\n",
    "\n",
    "# multiplication\n",
    "e = a * b\n",
    "print(\"Multiplication:\", e)\n",
    "\n",
    "# division\n",
    "f = a / b\n",
    "print(\"Division:\", f)\n",
    "\n",
    "# modulus\n",
    "g = a % b\n",
    "print(\"Modulus:\", g)\n",
    "\n",
    "# exponentiation\n",
    "h = a ** b\n",
    "print(\"Exponentiation:\", h)"
   ]
  },
  {
   "cell_type": "markdown",
   "id": "85c1e1c2",
   "metadata": {},
   "source": [
    "2.Relational/comparison:-  >,>=,<,<=,==,!="
   ]
  },
  {
   "cell_type": "code",
   "execution_count": 5,
   "id": "0043bb8d",
   "metadata": {},
   "outputs": [
    {
     "name": "stdout",
     "output_type": "stream",
     "text": [
      "Equal to: False\n",
      "Not equal to: True\n",
      "Greater than: True\n",
      "Less than: False\n",
      "Greater than or equal to: True\n",
      "Less than or equal to: False\n"
     ]
    }
   ],
   "source": [
    "a = 10\n",
    "b = 5\n",
    "\n",
    "# equal to\n",
    "c = a == b\n",
    "print(\"Equal to:\", c)\n",
    "\n",
    "# not equal to\n",
    "d = a != b\n",
    "print(\"Not equal to:\", d)\n",
    "\n",
    "# greater than\n",
    "e = a > b\n",
    "print(\"Greater than:\", e)\n",
    "\n",
    "# less than\n",
    "f = a < b\n",
    "print(\"Less than:\", f)\n",
    "\n",
    "# greater than or equal to\n",
    "g = a >= b\n",
    "print(\"Greater than or equal to:\", g)\n",
    "\n",
    "# less than or equal to\n",
    "h = a <= b\n",
    "print(\"Less than or equal to:\", h)"
   ]
  },
  {
   "cell_type": "markdown",
   "id": "1e307c75",
   "metadata": {},
   "source": [
    "3. Logical:- and,or, not"
   ]
  },
  {
   "cell_type": "code",
   "execution_count": 7,
   "id": "cbbcf789",
   "metadata": {},
   "outputs": [
    {
     "name": "stdout",
     "output_type": "stream",
     "text": [
      "Both conditions are True\n",
      "At least one condition is True\n",
      "The condition is False\n"
     ]
    }
   ],
   "source": [
    "x = 5\n",
    "y = 10\n",
    "z = 15\n",
    "\n",
    "# using the \"and\" logical operator\n",
    "if x < y and y < z:\n",
    "    print(\"Both conditions are True\")\n",
    "\n",
    "# using the \"or\" logical operator\n",
    "if x < y or x < z:\n",
    "    print(\"At least one condition is True\")\n",
    "\n",
    "# using the \"not\" logical operator\n",
    "if not (x == y):\n",
    "    print(\"The condition is False\")\n"
   ]
  },
  {
   "cell_type": "markdown",
   "id": "5f09e5e0",
   "metadata": {},
   "source": [
    "4. Assignment:-  =, +=, -=, *=, /=, %=, ***="
   ]
  },
  {
   "cell_type": "code",
   "execution_count": 8,
   "id": "4af56336",
   "metadata": {},
   "outputs": [
    {
     "name": "stdout",
     "output_type": "stream",
     "text": [
      "Basic assignment: 15\n",
      "Augmented assignment (c += a): 25\n",
      "Augmented assignment (c -= b): 20\n",
      "Augmented assignment (c *= a): 200\n",
      "Augmented assignment (c /= b): 40.0\n",
      "Augmented assignment (c %= a): 0.0\n",
      "Augmented assignment (c **= b): 0.0\n"
     ]
    }
   ],
   "source": [
    "a = 10\n",
    "b = 5\n",
    "\n",
    "# basic assignment\n",
    "c = a + b\n",
    "print(\"Basic assignment:\", c)\n",
    "\n",
    "# augmented assignment\n",
    "c += a\n",
    "print(\"Augmented assignment (c += a):\", c)\n",
    "\n",
    "c -= b\n",
    "print(\"Augmented assignment (c -= b):\", c)\n",
    "\n",
    "c *= a\n",
    "print(\"Augmented assignment (c *= a):\", c)\n",
    "\n",
    "c /= b\n",
    "print(\"Augmented assignment (c /= b):\", c)\n",
    "\n",
    "c %= a\n",
    "print(\"Augmented assignment (c %= a):\", c)\n",
    "\n",
    "c **= b\n",
    "print(\"Augmented assignment (c **= b):\", c)\n"
   ]
  },
  {
   "cell_type": "markdown",
   "id": "4fcbd85c",
   "metadata": {},
   "source": [
    "5. Bitwise:- &, |, ^, ~, <<, >>"
   ]
  },
  {
   "cell_type": "code",
   "execution_count": 9,
   "id": "4c17d3a1",
   "metadata": {},
   "outputs": [
    {
     "name": "stdout",
     "output_type": "stream",
     "text": [
      "Bitwise AND: 12\n",
      "Bitwise OR: 61\n",
      "Bitwise XOR: 49\n",
      "Bitwise NOT: -61\n",
      "Bitwise left shift: 240\n",
      "Bitwise right shift: 15\n"
     ]
    }
   ],
   "source": [
    "a = 60       # binary value: 0011 1100\n",
    "b = 13       # binary value: 0000 1101\n",
    "\n",
    "# bitwise AND\n",
    "c = a & b    # binary value: 0000 1100\n",
    "print(\"Bitwise AND:\", c)\n",
    "\n",
    "# bitwise OR\n",
    "c = a | b    # binary value: 0011 1101\n",
    "print(\"Bitwise OR:\", c)\n",
    "\n",
    "# bitwise XOR\n",
    "c = a ^ b    # binary value: 0011 0001\n",
    "print(\"Bitwise XOR:\", c)\n",
    "\n",
    "# bitwise NOT\n",
    "c = ~a       # binary value: 1100 0011\n",
    "print(\"Bitwise NOT:\", c)\n",
    "\n",
    "# bitwise left shift\n",
    "c = a << 2   # binary value: 1111 0000\n",
    "print(\"Bitwise left shift:\", c)\n",
    "\n",
    "# bitwise right shift\n",
    "c = a >> 2   # binary value: 0000 1111\n",
    "print(\"Bitwise right shift:\", c)\n"
   ]
  },
  {
   "cell_type": "markdown",
   "id": "4c0c1f82",
   "metadata": {},
   "source": [
    "6.Membership \n",
    "* The function to check the members in set"
   ]
  },
  {
   "cell_type": "code",
   "execution_count": 10,
   "id": "5d8d8547",
   "metadata": {},
   "outputs": [
    {
     "name": "stdout",
     "output_type": "stream",
     "text": [
      "Apple is in the list\n",
      "Watermelon is not in the list\n"
     ]
    }
   ],
   "source": [
    "my_list = ['apple', 'banana', 'orange', 'grape']\n",
    "\n",
    "if 'apple' in my_list:\n",
    "    print(\"Apple is in the list\")\n",
    "else:\n",
    "    print(\"Apple is not in the list\")\n",
    "\n",
    "if 'watermelon' not in my_list:\n",
    "    print(\"Watermelon is not in the list\")\n",
    "else:\n",
    "    print(\"Watermelon is in the list\")\n"
   ]
  },
  {
   "cell_type": "markdown",
   "id": "ae6b449a",
   "metadata": {},
   "source": [
    "7. Identity\n",
    "* To verify the all sets is same or not"
   ]
  },
  {
   "cell_type": "code",
   "execution_count": 15,
   "id": "61c8874c",
   "metadata": {},
   "outputs": [
    {
     "name": "stdout",
     "output_type": "stream",
     "text": [
      "s and s1 has the same object\n"
     ]
    }
   ],
   "source": [
    "s = 'abc'\n",
    "s1 = 'abc'\n",
    "if s is s1:\n",
    "    print(\"s and s1 has the same object\")\n",
    "else:\n",
    "    print(\"s and s1 has the different objects\")\n"
   ]
  }
 ],
 "metadata": {
  "kernelspec": {
   "display_name": "Python 3 (ipykernel)",
   "language": "python",
   "name": "python3"
  },
  "language_info": {
   "codemirror_mode": {
    "name": "ipython",
    "version": 3
   },
   "file_extension": ".py",
   "mimetype": "text/x-python",
   "name": "python",
   "nbconvert_exporter": "python",
   "pygments_lexer": "ipython3",
   "version": "3.9.12"
  }
 },
 "nbformat": 4,
 "nbformat_minor": 5
}
