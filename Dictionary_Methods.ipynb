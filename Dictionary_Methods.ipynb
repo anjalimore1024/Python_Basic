{
 "cells": [
  {
   "cell_type": "markdown",
   "id": "3fdbbbed",
   "metadata": {},
   "source": [
    " A dictionary is a built-in data type that allows you to store key-value pairs. It is also known as an associative array, map, or hash table in other programming languages."
   ]
  },
  {
   "cell_type": "code",
   "execution_count": 1,
   "id": "0b759996",
   "metadata": {},
   "outputs": [
    {
     "data": {
      "text/plain": [
       "dict"
      ]
     },
     "execution_count": 1,
     "metadata": {},
     "output_type": "execute_result"
    }
   ],
   "source": [
    "d = {}\n",
    "type(d)"
   ]
  },
  {
   "cell_type": "code",
   "execution_count": 2,
   "id": "477c2a7e",
   "metadata": {},
   "outputs": [
    {
     "data": {
      "text/plain": [
       "{'key': 'value',\n",
       " 'name': 'Anjali',\n",
       " 'age': 22,\n",
       " 'email': 'anjali@gmail.com',\n",
       " 'salary': 15}"
      ]
     },
     "execution_count": 2,
     "metadata": {},
     "output_type": "execute_result"
    }
   ],
   "source": [
    "d = {'key':'value', 'name': 'Anjali', 'age': 22, 'email': 'anjali@gmail.com', 'salary': 15}\n",
    "d"
   ]
  },
  {
   "cell_type": "code",
   "execution_count": 3,
   "id": "25cfd0bf",
   "metadata": {},
   "outputs": [
    {
     "data": {
      "text/plain": [
       "'Anjali'"
      ]
     },
     "execution_count": 3,
     "metadata": {},
     "output_type": "execute_result"
    }
   ],
   "source": [
    "# to check the perticular values\n",
    "d['name']"
   ]
  },
  {
   "cell_type": "code",
   "execution_count": 4,
   "id": "ff4e11dd",
   "metadata": {},
   "outputs": [
    {
     "data": {
      "text/plain": [
       "{'key': 'value',\n",
       " 'name': 'shraddha',\n",
       " 'age': 22,\n",
       " 'email': 'anjali@gmail.com',\n",
       " 'salary': 15}"
      ]
     },
     "execution_count": 4,
     "metadata": {},
     "output_type": "execute_result"
    }
   ],
   "source": [
    "# To replace the value in Dictionary\n",
    "d['name'] = 'shraddha'\n",
    "d"
   ]
  },
  {
   "cell_type": "code",
   "execution_count": 5,
   "id": "46071760",
   "metadata": {},
   "outputs": [
    {
     "data": {
      "text/plain": [
       "{'key': 'value',\n",
       " 'name': 'shraddha',\n",
       " 'age': 22,\n",
       " 'email': 'anjali@gmail.com',\n",
       " 'salary': 15,\n",
       " 'Phone': 9849773878}"
      ]
     },
     "execution_count": 5,
     "metadata": {},
     "output_type": "execute_result"
    }
   ],
   "source": [
    "# To add the new key and value\n",
    "d['Phone'] = 9849773878\n",
    "d"
   ]
  },
  {
   "cell_type": "code",
   "execution_count": 6,
   "id": "d6e5f0c5",
   "metadata": {},
   "outputs": [
    {
     "data": {
      "text/plain": [
       "'shraddha'"
      ]
     },
     "execution_count": 6,
     "metadata": {},
     "output_type": "execute_result"
    }
   ],
   "source": [
    "# If it is a key then its value will be returned and if not then its error will not be returned \n",
    "d.get('name')"
   ]
  },
  {
   "cell_type": "code",
   "execution_count": 7,
   "id": "28710b3b",
   "metadata": {},
   "outputs": [
    {
     "data": {
      "text/plain": [
       "True"
      ]
     },
     "execution_count": 7,
     "metadata": {},
     "output_type": "execute_result"
    }
   ],
   "source": [
    "# To check the specific key name is in Dictionary or not(Membership)\n",
    "'shraddha' in d['name']"
   ]
  },
  {
   "cell_type": "code",
   "execution_count": 8,
   "id": "ac73103f",
   "metadata": {},
   "outputs": [],
   "source": [
    "d = {'key':'value', 'name': 'Anjali', 'age': 22, 'email': 'anjali@gmail.com', 'skills':['python','html','css']}"
   ]
  },
  {
   "cell_type": "code",
   "execution_count": 9,
   "id": "96c2a857",
   "metadata": {},
   "outputs": [
    {
     "data": {
      "text/plain": [
       "['python', 'html', 'css']"
      ]
     },
     "execution_count": 9,
     "metadata": {},
     "output_type": "execute_result"
    }
   ],
   "source": [
    "# To check the values\n",
    "d['skills']"
   ]
  },
  {
   "cell_type": "code",
   "execution_count": 10,
   "id": "7c64985d",
   "metadata": {},
   "outputs": [
    {
     "data": {
      "text/plain": [
       "'python'"
      ]
     },
     "execution_count": 10,
     "metadata": {},
     "output_type": "execute_result"
    }
   ],
   "source": [
    "# I want to create a dictionary in the dictionary\n",
    "# Everything you want to add is possible in values(tuple, dictionary,list) but keys are possible in tuple in dictionary\n",
    "d = {'key':'value', 'name': 'Anjali', 'age': 22, 'email': 'anjali@gmail.com', 'skills':{'ds':'python','web':'css'}}\n",
    "\n",
    "d['skills']['ds']"
   ]
  },
  {
   "cell_type": "code",
   "execution_count": 11,
   "id": "f9665587",
   "metadata": {},
   "outputs": [
    {
     "data": {
      "text/plain": [
       "{'key': 'value', 'name': 'Anjali', 'age': 22, 'email': 'anjali@gmail.com'}"
      ]
     },
     "execution_count": 11,
     "metadata": {},
     "output_type": "execute_result"
    }
   ],
   "source": [
    "# To remove the perticular key\n",
    "del d['skills']\n",
    "d"
   ]
  },
  {
   "cell_type": "code",
   "execution_count": 12,
   "id": "adeab5ee",
   "metadata": {},
   "outputs": [
    {
     "data": {
      "text/plain": [
       "{'name': 'Anjali', 'age': 22, 'email': 'anjali@gmail.com'}"
      ]
     },
     "execution_count": 12,
     "metadata": {},
     "output_type": "execute_result"
    }
   ],
   "source": [
    "# To remove the perticular key\n",
    "d.pop('key')\n",
    "d"
   ]
  },
  {
   "cell_type": "code",
   "execution_count": 13,
   "id": "13689d9d",
   "metadata": {},
   "outputs": [
    {
     "data": {
      "text/plain": [
       "{}"
      ]
     },
     "execution_count": 13,
     "metadata": {},
     "output_type": "execute_result"
    }
   ],
   "source": [
    "# To remove the all dictionary\n",
    "{'key': 'value', 'name': 'Anjali', 'age': 22, 'email': 'anjali@gmail.com'}\n",
    "\n",
    "d.clear()\n",
    "d"
   ]
  },
  {
   "cell_type": "code",
   "execution_count": 14,
   "id": "534a760e",
   "metadata": {},
   "outputs": [
    {
     "data": {
      "text/plain": [
       "dict_keys(['key', 'name', 'age', 'email', 'skills'])"
      ]
     },
     "execution_count": 14,
     "metadata": {},
     "output_type": "execute_result"
    }
   ],
   "source": [
    "# I want to check all keys\n",
    "# Returns a list containing all the dictionary's keys\n",
    "d = {'key':'value', 'name': 'Anjali', 'age': 22, 'email': 'anjali@gmail.com', 'skills':{'ds':'python','web':'css'}}\n",
    "\n",
    "d.keys()"
   ]
  },
  {
   "cell_type": "code",
   "execution_count": 15,
   "id": "1cb38c97",
   "metadata": {},
   "outputs": [
    {
     "data": {
      "text/plain": [
       "dict_values(['value', 'Anjali', 22, 'anjali@gmail.com', {'ds': 'python', 'web': 'css'}])"
      ]
     },
     "execution_count": 15,
     "metadata": {},
     "output_type": "execute_result"
    }
   ],
   "source": [
    "# Returns a list of all the values in the dictionary\n",
    "d.values()"
   ]
  },
  {
   "cell_type": "code",
   "execution_count": 16,
   "id": "3a2f02c8",
   "metadata": {
    "scrolled": true
   },
   "outputs": [
    {
     "data": {
      "text/plain": [
       "dict_items([('key', 'value'), ('name', 'Anjali'), ('age', 22), ('email', 'anjali@gmail.com'), ('skills', {'ds': 'python', 'web': 'css'})])"
      ]
     },
     "execution_count": 16,
     "metadata": {},
     "output_type": "execute_result"
    }
   ],
   "source": [
    "# Returns a list containing a tuple for each key value pair\n",
    "d.items()"
   ]
  },
  {
   "cell_type": "code",
   "execution_count": 17,
   "id": "eb22902f",
   "metadata": {},
   "outputs": [
    {
     "data": {
      "text/plain": [
       "{'key': 'value', 'name': 'Anjali', 'age': 22, 'email': 'anjali@gmail.com'}"
      ]
     },
     "execution_count": 17,
     "metadata": {},
     "output_type": "execute_result"
    }
   ],
   "source": [
    "# I want to remove last key\n",
    "d.popitem()\n",
    "d"
   ]
  }
 ],
 "metadata": {
  "kernelspec": {
   "display_name": "Python 3 (ipykernel)",
   "language": "python",
   "name": "python3"
  },
  "language_info": {
   "codemirror_mode": {
    "name": "ipython",
    "version": 3
   },
   "file_extension": ".py",
   "mimetype": "text/x-python",
   "name": "python",
   "nbconvert_exporter": "python",
   "pygments_lexer": "ipython3",
   "version": "3.9.12"
  }
 },
 "nbformat": 4,
 "nbformat_minor": 5
}
