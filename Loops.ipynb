{
 "cells": [
  {
   "cell_type": "markdown",
   "id": "23e8bd19",
   "metadata": {},
   "source": [
    "# FOR LOOP"
   ]
  },
  {
   "cell_type": "markdown",
   "id": "f54259f0",
   "metadata": {},
   "source": [
    "A for loop is used for iterating over a sequence"
   ]
  },
  {
   "cell_type": "markdown",
   "id": "efd3a70e",
   "metadata": {},
   "source": [
    "1] List -"
   ]
  },
  {
   "cell_type": "code",
   "execution_count": 3,
   "id": "ead38fed",
   "metadata": {},
   "outputs": [
    {
     "name": "stdout",
     "output_type": "stream",
     "text": [
      "10\n",
      "20\n",
      "30\n",
      "40\n",
      "50\n",
      "70\n",
      "80\n",
      "90\n"
     ]
    }
   ],
   "source": [
    "a= [10,20,30,40,50,70,80,90]\n",
    "try:\n",
    "    def List(name):\n",
    "        try:\n",
    "            for x in a:\n",
    "                print(x)\n",
    "        except Exception as e:\n",
    "            print(e)\n",
    "    List(a)     \n",
    "except Exception as e:\n",
    "            print(e)            "
   ]
  },
  {
   "cell_type": "markdown",
   "id": "ca1bf9d7",
   "metadata": {},
   "source": [
    "2] break -"
   ]
  },
  {
   "cell_type": "code",
   "execution_count": 7,
   "id": "120f2018",
   "metadata": {},
   "outputs": [
    {
     "name": "stdout",
     "output_type": "stream",
     "text": [
      "10\n",
      "20\n",
      "30\n",
      "40\n",
      "50\n"
     ]
    }
   ],
   "source": [
    "a= [10,20,30,40,50,70,80,90]\n",
    "try:\n",
    "    def breaks(name):\n",
    "        try:\n",
    "            for i in a:\n",
    "                print(i)\n",
    "                if i == 50:\n",
    "                    break\n",
    "        \n",
    "        except Exception as e:\n",
    "            print(e)\n",
    "    breaks(a)     \n",
    "except Exception as e:\n",
    "            print(e)"
   ]
  },
  {
   "cell_type": "markdown",
   "id": "1bce5658",
   "metadata": {},
   "source": [
    "3] continue -"
   ]
  },
  {
   "cell_type": "code",
   "execution_count": 6,
   "id": "dfaa318b",
   "metadata": {},
   "outputs": [
    {
     "name": "stdout",
     "output_type": "stream",
     "text": [
      "10\n",
      "20\n",
      "30\n",
      "40\n",
      "50\n",
      "70\n",
      "80\n",
      "90\n"
     ]
    }
   ],
   "source": [
    "a= [10,20,30,40,50,70,80,90]\n",
    "try:\n",
    "    def List(name):\n",
    "        try:\n",
    "            for i in a:\n",
    "                print(i)\n",
    "                if i == 50:\n",
    "                    continue\n",
    "                \n",
    "        except Exception as e:\n",
    "            print(e)\n",
    "    List(a)\n",
    "except Exception as e:\n",
    "            print(e)    "
   ]
  },
  {
   "cell_type": "markdown",
   "id": "958ffccc",
   "metadata": {},
   "source": [
    "4] muliplication() -"
   ]
  },
  {
   "cell_type": "code",
   "execution_count": 5,
   "id": "87b9289e",
   "metadata": {},
   "outputs": [
    {
     "name": "stdout",
     "output_type": "stream",
     "text": [
      "Enter a number for multiplications : 7\n",
      "7 x 1 = 7\n",
      "7 x 2 = 14\n",
      "7 x 3 = 21\n",
      "7 x 4 = 28\n",
      "7 x 5 = 35\n",
      "7 x 6 = 42\n",
      "7 x 7 = 49\n",
      "7 x 8 = 56\n",
      "7 x 9 = 63\n",
      "7 x 10 = 70\n"
     ]
    }
   ],
   "source": [
    "s = int(input(\"Enter a number for multiplications : \"))\n",
    "try:\n",
    "    def multiply(name):\n",
    "        try:\n",
    "            for i in range(1,11):\n",
    "                print(s,\"x\",i, \"=\", i*s)\n",
    "        except Exception as e:\n",
    "            print(e)\n",
    "    multiply(s)\n",
    "except Exception as e:\n",
    "            print(e)    "
   ]
  },
  {
   "cell_type": "markdown",
   "id": "e0f8c877",
   "metadata": {},
   "source": [
    "5] count -"
   ]
  },
  {
   "cell_type": "code",
   "execution_count": 4,
   "id": "9b685a53",
   "metadata": {},
   "outputs": [
    {
     "name": "stdout",
     "output_type": "stream",
     "text": [
      "x : 5\n",
      "z : 7\n",
      "p : 7\n",
      "y : 4\n"
     ]
    }
   ],
   "source": [
    "a = \"xxxxxyyyyzzzzzzzppppppp\"\n",
    "try:\n",
    "    def sets(name):\n",
    "        try:\n",
    "            for i in set(a):\n",
    "                print(i, \":\",a.count(i))\n",
    "        except Exception as e:\n",
    "            print(e)\n",
    "    sets(a)\n",
    "except Exception as e:\n",
    "            print(e)    "
   ]
  },
  {
   "cell_type": "markdown",
   "id": "f893a770",
   "metadata": {},
   "source": [
    "6] upper -"
   ]
  },
  {
   "cell_type": "code",
   "execution_count": 3,
   "id": "efd78065",
   "metadata": {},
   "outputs": [
    {
     "name": "stdout",
     "output_type": "stream",
     "text": [
      "J\n",
      "N\n",
      "B\n"
     ]
    }
   ],
   "source": [
    "s = \"JupyterNoteBook\"\n",
    "try:\n",
    "    def upper(name):\n",
    "        try:\n",
    "            for i in s:\n",
    "                if i.isupper() == True:\n",
    "                    print(i)\n",
    "        except Exception as e:\n",
    "                print(e)\n",
    "    upper(s)\n",
    "except Exception as e:\n",
    "        print(e)    "
   ]
  },
  {
   "cell_type": "markdown",
   "id": "4ac55ceb",
   "metadata": {},
   "source": [
    "7] factorial() -"
   ]
  },
  {
   "cell_type": "code",
   "execution_count": 61,
   "id": "953b0d4e",
   "metadata": {},
   "outputs": [
    {
     "name": "stdout",
     "output_type": "stream",
     "text": [
      "Enter a number for factorial : 7\n",
      "1\n",
      "2\n",
      "6\n",
      "24\n",
      "120\n",
      "720\n"
     ]
    }
   ],
   "source": [
    "try:\n",
    "    def factorial(name):\n",
    "        try:\n",
    "            n = int(input(\"Enter a number for factorial : \"))\n",
    "            fact = 1\n",
    "            for i in range(1,n):\n",
    "                fact = fact*i\n",
    "                print(fact)\n",
    "        except Exception as e:\n",
    "            print(e)\n",
    "    factorial(n)\n",
    "except Exception as e:\n",
    "            print(e)    "
   ]
  },
  {
   "cell_type": "markdown",
   "id": "33755dd1",
   "metadata": {},
   "source": [
    "# while loop :-"
   ]
  },
  {
   "cell_type": "markdown",
   "id": "3c8873b4",
   "metadata": {},
   "source": [
    " The while loop in Python is used to iterate over a block of code as long as the test expression (condition) is true."
   ]
  },
  {
   "cell_type": "markdown",
   "id": "9c5eeb5c",
   "metadata": {},
   "source": [
    "1] break -"
   ]
  },
  {
   "cell_type": "code",
   "execution_count": 58,
   "id": "af5b9583",
   "metadata": {},
   "outputs": [
    {
     "name": "stdout",
     "output_type": "stream",
     "text": [
      "1 this is the final statement\n",
      "2 this is the final statement\n",
      "3 this is the final statement\n",
      "4 "
     ]
    }
   ],
   "source": [
    "try:\n",
    "    def condition(name):\n",
    "        try:\n",
    "            i = 1\n",
    "            while i <=10:\n",
    "                print(i, end = \" \")\n",
    "                i+=1\n",
    "                if i == 5:\n",
    "                    break\n",
    "                else:\n",
    "                    print(\"this is the final statement\")\n",
    "        except Exception as e:\n",
    "            print(e)\n",
    "\n",
    "    condition(i)\n",
    "except Exception as e:\n",
    "    print(e)"
   ]
  },
  {
   "cell_type": "markdown",
   "id": "bb4c6161",
   "metadata": {},
   "source": [
    "2] append -"
   ]
  },
  {
   "cell_type": "code",
   "execution_count": 13,
   "id": "b889c5d4",
   "metadata": {},
   "outputs": [
    {
     "name": "stdout",
     "output_type": "stream",
     "text": [
      "[10, 30, 40, 50, 70, 80, 50, 60, 80, 20, 30, 50, 60, 70, 20]\n",
      "wrong data : ['20', '60', '70', '40', '10', '30']\n"
     ]
    }
   ],
   "source": [
    "\n",
    "try:\n",
    "    def append(name):\n",
    "        try:\n",
    "            l = [10,'20',30,40,50,'60',70,80,50,60,'70',80,20,30,'40',50,60,70,'10',20,'30']\n",
    "            i = 0\n",
    "            final_list = []\n",
    "            wrong_data = []\n",
    "            while i <len(l):\n",
    "                if type(l[i]) == int:\n",
    "                    final_list.append(l[i]) \n",
    "                else:\n",
    "                    wrong_data.append(l[i])\n",
    "                i+=1\n",
    "            print(final_list)\n",
    "            print(\"wrong data :\", wrong_data)\n",
    "        except Exception as e:\n",
    "            print(e)\n",
    "    append(l[i])\n",
    "except Exception as e:\n",
    "            print(e)    "
   ]
  },
  {
   "cell_type": "markdown",
   "id": "eef35bc7",
   "metadata": {},
   "source": [
    "3] factorial -"
   ]
  },
  {
   "cell_type": "code",
   "execution_count": 59,
   "id": "94c08e12",
   "metadata": {},
   "outputs": [
    {
     "name": "stdout",
     "output_type": "stream",
     "text": [
      "Enter a number for factorial : 6\n",
      "6\n",
      "30\n",
      "120\n",
      "360\n",
      "720\n",
      "720\n"
     ]
    }
   ],
   "source": [
    "try:\n",
    "    def factors(name):\n",
    "        try:\n",
    "            n = int(input(\"Enter a number for factorial : \"))\n",
    "            fact = 1\n",
    "            while n>0:\n",
    "                fact = fact*n\n",
    "                n-=1\n",
    "                print(fact)\n",
    "        except Exception as e:\n",
    "            print(e)\n",
    "    factors(n)\n",
    "except Exception as e:\n",
    "            print(e)    "
   ]
  },
  {
   "cell_type": "markdown",
   "id": "691beb58",
   "metadata": {},
   "source": [
    "4] split -"
   ]
  },
  {
   "cell_type": "code",
   "execution_count": 60,
   "id": "4114606e",
   "metadata": {},
   "outputs": [
    {
     "name": "stdout",
     "output_type": "stream",
     "text": [
      "4\n"
     ]
    }
   ],
   "source": [
    "s = \"learning python is easy\"\n",
    "try:\n",
    "    def split(name):\n",
    "        try:\n",
    "            l = s.split(\" \")\n",
    "            final = l[-1]\n",
    "            print(len(final))\n",
    "        except Exception as e:\n",
    "            print(e)\n",
    "    split(s)\n",
    "except Exception as e:\n",
    "            print(e)    "
   ]
  }
 ],
 "metadata": {
  "kernelspec": {
   "display_name": "Python 3 (ipykernel)",
   "language": "python",
   "name": "python3"
  },
  "language_info": {
   "codemirror_mode": {
    "name": "ipython",
    "version": 3
   },
   "file_extension": ".py",
   "mimetype": "text/x-python",
   "name": "python",
   "nbconvert_exporter": "python",
   "pygments_lexer": "ipython3",
   "version": "3.9.12"
  }
 },
 "nbformat": 4,
 "nbformat_minor": 5
}
